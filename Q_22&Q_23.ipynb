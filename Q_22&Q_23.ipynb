{
 "cells": [
  {
   "cell_type": "code",
   "execution_count": 3,
   "id": "ec12fa21",
   "metadata": {
    "ExecuteTime": {
     "end_time": "2022-12-30T11:33:44.261680Z",
     "start_time": "2022-12-30T11:33:44.020242Z"
    }
   },
   "outputs": [],
   "source": [
    "from scipy import stats"
   ]
  },
  {
   "cell_type": "code",
   "execution_count": 4,
   "id": "1ac19c7f",
   "metadata": {
    "ExecuteTime": {
     "end_time": "2022-12-30T11:33:45.050781Z",
     "start_time": "2022-12-30T11:33:45.017508Z"
    }
   },
   "outputs": [
    {
     "data": {
      "text/plain": [
       "1.6448536269514722"
      ]
     },
     "execution_count": 4,
     "metadata": {},
     "output_type": "execute_result"
    }
   ],
   "source": [
    "# z score for 90% confidence interval\n",
    "stats.norm.ppf(.95)"
   ]
  },
  {
   "cell_type": "code",
   "execution_count": 8,
   "id": "790165e6",
   "metadata": {
    "ExecuteTime": {
     "end_time": "2022-12-30T11:53:29.223782Z",
     "start_time": "2022-12-30T11:53:29.200111Z"
    }
   },
   "outputs": [
    {
     "data": {
      "text/plain": [
       "1.8807936081512509"
      ]
     },
     "execution_count": 8,
     "metadata": {},
     "output_type": "execute_result"
    }
   ],
   "source": [
    "#z score for 94% confidence interval\n",
    "stats.norm.ppf(0.97)"
   ]
  },
  {
   "cell_type": "code",
   "execution_count": null,
   "id": "1f6e6672",
   "metadata": {
    "ExecuteTime": {
     "end_time": "2022-12-30T11:53:59.655980Z",
     "start_time": "2022-12-30T11:53:59.631047Z"
    }
   },
   "outputs": [],
   "source": [
    "# z score for 60% confidence interval \n",
    "stats.norm.ppf(.80)"
   ]
  },
  {
   "cell_type": "markdown",
   "id": "0aa86cbd",
   "metadata": {
    "ExecuteTime": {
     "end_time": "2022-12-30T12:01:43.551926Z",
     "start_time": "2022-12-30T12:01:43.537939Z"
    }
   },
   "source": [
    "## Tscore"
   ]
  },
  {
   "cell_type": "code",
   "execution_count": 10,
   "id": "3fdb5730",
   "metadata": {
    "ExecuteTime": {
     "end_time": "2022-12-30T12:00:18.375823Z",
     "start_time": "2022-12-30T12:00:18.338022Z"
    }
   },
   "outputs": [
    {
     "data": {
      "text/plain": [
       "2.0638985616280205"
      ]
     },
     "execution_count": 10,
     "metadata": {},
     "output_type": "execute_result"
    }
   ],
   "source": [
    "# tscore for 95% confidence interval\n",
    "stats.t.ppf(.975, 24)"
   ]
  },
  {
   "cell_type": "code",
   "execution_count": 14,
   "id": "98d3d26b",
   "metadata": {
    "ExecuteTime": {
     "end_time": "2022-12-30T12:02:47.977622Z",
     "start_time": "2022-12-30T12:02:47.957319Z"
    }
   },
   "outputs": [
    {
     "data": {
      "text/plain": [
       "2.1715446760080677"
      ]
     },
     "execution_count": 14,
     "metadata": {},
     "output_type": "execute_result"
    }
   ],
   "source": [
    "# tscore for 96% confidence interval\n",
    "stats.t.ppf(.98, 24)"
   ]
  },
  {
   "cell_type": "code",
   "execution_count": 15,
   "id": "6fea5392",
   "metadata": {
    "ExecuteTime": {
     "end_time": "2022-12-30T12:07:06.025435Z",
     "start_time": "2022-12-30T12:07:06.010543Z"
    }
   },
   "outputs": [
    {
     "data": {
      "text/plain": [
       "2.796939504772804"
      ]
     },
     "execution_count": 15,
     "metadata": {},
     "output_type": "execute_result"
    }
   ],
   "source": [
    "# tscore for 99% confidence interval\n",
    "stats.t.ppf(.995,24)"
   ]
  },
  {
   "cell_type": "code",
   "execution_count": null,
   "id": "d074bab3",
   "metadata": {},
   "outputs": [],
   "source": []
  }
 ],
 "metadata": {
  "kernelspec": {
   "display_name": "Python 3 (ipykernel)",
   "language": "python",
   "name": "python3"
  },
  "language_info": {
   "codemirror_mode": {
    "name": "ipython",
    "version": 3
   },
   "file_extension": ".py",
   "mimetype": "text/x-python",
   "name": "python",
   "nbconvert_exporter": "python",
   "pygments_lexer": "ipython3",
   "version": "3.9.13"
  }
 },
 "nbformat": 4,
 "nbformat_minor": 5
}
