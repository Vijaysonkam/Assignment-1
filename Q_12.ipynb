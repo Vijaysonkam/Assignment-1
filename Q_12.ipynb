{
 "cells": [
  {
   "cell_type": "code",
   "execution_count": 21,
   "id": "572c182c",
   "metadata": {
    "ExecuteTime": {
     "end_time": "2022-12-28T14:34:22.355179Z",
     "start_time": "2022-12-28T14:34:19.728587Z"
    }
   },
   "outputs": [],
   "source": [
    "import pandas as pd\n",
    "import seaborn as sn\n",
    "import matplotlib.pyplot as plt"
   ]
  },
  {
   "cell_type": "code",
   "execution_count": 24,
   "id": "db63f765",
   "metadata": {
    "ExecuteTime": {
     "end_time": "2022-12-28T14:36:17.834829Z",
     "start_time": "2022-12-28T14:36:17.813618Z"
    }
   },
   "outputs": [],
   "source": [
    "x= pd.Series([34,36,36,38,38,39,39,40,40,41,41,41,41,42,45,49,56])"
   ]
  },
  {
   "cell_type": "code",
   "execution_count": 16,
   "id": "f8d56a59",
   "metadata": {
    "ExecuteTime": {
     "end_time": "2022-12-28T13:50:21.412179Z",
     "start_time": "2022-12-28T13:50:21.377412Z"
    }
   },
   "outputs": [
    {
     "data": {
      "text/plain": [
       "40.94117647058823"
      ]
     },
     "execution_count": 16,
     "metadata": {},
     "output_type": "execute_result"
    }
   ],
   "source": [
    "x.mean()"
   ]
  },
  {
   "cell_type": "code",
   "execution_count": 17,
   "id": "e6e031b4",
   "metadata": {
    "ExecuteTime": {
     "end_time": "2022-12-28T13:50:29.953470Z",
     "start_time": "2022-12-28T13:50:29.925102Z"
    }
   },
   "outputs": [
    {
     "name": "stdout",
     "output_type": "stream",
     "text": [
      "<class 'pandas.core.series.Series'>\n",
      "RangeIndex: 17 entries, 0 to 16\n",
      "Series name: None\n",
      "Non-Null Count  Dtype\n",
      "--------------  -----\n",
      "17 non-null     int64\n",
      "dtypes: int64(1)\n",
      "memory usage: 264.0 bytes\n"
     ]
    }
   ],
   "source": [
    "x.info()"
   ]
  },
  {
   "cell_type": "code",
   "execution_count": 18,
   "id": "4ab5e0af",
   "metadata": {
    "ExecuteTime": {
     "end_time": "2022-12-28T13:50:41.246136Z",
     "start_time": "2022-12-28T13:50:41.214192Z"
    }
   },
   "outputs": [
    {
     "data": {
      "text/plain": [
       "count    17.000000\n",
       "mean     40.941176\n",
       "std       5.201810\n",
       "min      34.000000\n",
       "25%      38.000000\n",
       "50%      40.000000\n",
       "75%      41.000000\n",
       "max      56.000000\n",
       "dtype: float64"
      ]
     },
     "execution_count": 18,
     "metadata": {},
     "output_type": "execute_result"
    }
   ],
   "source": [
    "x.describe()"
   ]
  },
  {
   "cell_type": "code",
   "execution_count": 19,
   "id": "1114732c",
   "metadata": {
    "ExecuteTime": {
     "end_time": "2022-12-28T14:26:36.184188Z",
     "start_time": "2022-12-28T14:26:36.165634Z"
    }
   },
   "outputs": [
    {
     "data": {
      "text/plain": [
       "27.058823529411768"
      ]
     },
     "execution_count": 19,
     "metadata": {},
     "output_type": "execute_result"
    }
   ],
   "source": [
    "x.var()"
   ]
  },
  {
   "cell_type": "code",
   "execution_count": 20,
   "id": "b1b5e263",
   "metadata": {
    "ExecuteTime": {
     "end_time": "2022-12-28T14:26:55.074352Z",
     "start_time": "2022-12-28T14:26:55.056343Z"
    }
   },
   "outputs": [
    {
     "data": {
      "text/plain": [
       "40.0"
      ]
     },
     "execution_count": 20,
     "metadata": {},
     "output_type": "execute_result"
    }
   ],
   "source": [
    "x.median()"
   ]
  },
  {
   "cell_type": "code",
   "execution_count": 27,
   "id": "3631b8aa",
   "metadata": {
    "ExecuteTime": {
     "end_time": "2022-12-28T14:37:24.673961Z",
     "start_time": "2022-12-28T14:37:24.541476Z"
    }
   },
   "outputs": [
    {
     "data": {
      "text/plain": [
       "{'whiskers': [<matplotlib.lines.Line2D at 0x280d02f1be0>,\n",
       "  <matplotlib.lines.Line2D at 0x280d02f13a0>],\n",
       " 'caps': [<matplotlib.lines.Line2D at 0x280d02e96a0>,\n",
       "  <matplotlib.lines.Line2D at 0x280d02e9ca0>],\n",
       " 'boxes': [<matplotlib.lines.Line2D at 0x280d02f1760>],\n",
       " 'medians': [<matplotlib.lines.Line2D at 0x280d02e9580>],\n",
       " 'fliers': [<matplotlib.lines.Line2D at 0x280d02e97f0>],\n",
       " 'means': []}"
      ]
     },
     "execution_count": 27,
     "metadata": {},
     "output_type": "execute_result"
    },
    {
     "data": {
      "image/png": "[encoded data removed]",
      "text/plain": [
       "<Figure size 640x480 with 1 Axes>"
      ]
     },
     "metadata": {},
     "output_type": "display_data"
    }
   ],
   "source": [
    "plt.boxplot(x)"
   ]
  },
  {
   "cell_type": "code",
   "execution_count": null,
   "id": "3761c4c3",
   "metadata": {},
   "outputs": [],
   "source": []
  }
 ],
 "metadata": {
  "kernelspec": {
   "display_name": "Python 3 (ipykernel)",
   "language": "python",
   "name": "python3"
  },
  "language_info": {
   "codemirror_mode": {
    "name": "ipython",
    "version": 3
   },
   "file_extension": ".py",
   "mimetype": "text/x-python",
   "name": "python",
   "nbconvert_exporter": "python",
   "pygments_lexer": "ipython3",
   "version": "3.9.13"
  }
 },
 "nbformat": 4,
 "nbformat_minor": 5
}
